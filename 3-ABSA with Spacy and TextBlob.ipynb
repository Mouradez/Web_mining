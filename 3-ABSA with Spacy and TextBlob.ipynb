{
 "cells": [
  {
   "cell_type": "code",
   "execution_count": 1,
   "metadata": {},
   "outputs": [],
   "source": [
    "#!pip install spacy"
   ]
  },
  {
   "cell_type": "code",
   "execution_count": 2,
   "metadata": {},
   "outputs": [],
   "source": [
    "#!python -m spacy download en_core_web_sm"
   ]
  },
  {
   "cell_type": "code",
   "execution_count": 3,
   "metadata": {},
   "outputs": [],
   "source": [
    "import spacy\n",
    "nlp = spacy.load(\"en_core_web_sm\")"
   ]
  },
  {
   "cell_type": "code",
   "execution_count": 4,
   "metadata": {},
   "outputs": [],
   "source": [
    "sentences = [\n",
    "  'The food we had yesterday was delicious',\n",
    "  'My time in Italy was very enjoyable',\n",
    "  'I found the meal to be tasty',\n",
    "  'The internet was slow.',\n",
    "  'Our experience was suboptimal'\n",
    "]"
   ]
  },
  {
   "cell_type": "markdown",
   "metadata": {},
   "source": [
    "### We are going to split our sentences in such a way as to obtain the aspect (ex: food) and its expression (ex: delicious)\n",
    "\n",
    "For each token inside our sentences, we can see the dependency through spacy's dependency analysis and POS (Part-Of-Speech)tags\n",
    "https://spacy.io/usage/linguistic-features"
   ]
  },
  {
   "cell_type": "code",
   "execution_count": 5,
   "metadata": {},
   "outputs": [
    {
     "name": "stdout",
     "output_type": "stream",
     "text": [
      "The det food NOUN DET []\n",
      "food nsubj was AUX NOUN [The, had]\n",
      "we nsubj had VERB PRON []\n",
      "had relcl food NOUN VERB [we, yesterday]\n",
      "yesterday npadvmod had VERB NOUN []\n",
      "was ROOT was AUX AUX [food, delicious]\n",
      "delicious acomp was AUX ADJ []\n",
      "My poss time NOUN PRON []\n",
      "time nsubj was AUX NOUN [My, in]\n",
      "in prep time NOUN ADP [Italy]\n",
      "Italy pobj in ADP PROPN []\n",
      "was ROOT was AUX AUX [time, enjoyable]\n",
      "very advmod enjoyable ADJ ADV []\n",
      "enjoyable acomp was AUX ADJ [very]\n",
      "I nsubj found VERB PRON []\n",
      "found ROOT found VERB VERB [I, be]\n",
      "the det meal NOUN DET []\n",
      "meal nsubj be AUX NOUN [the]\n",
      "to aux be AUX PART []\n",
      "be ccomp found VERB AUX [meal, to, tasty]\n",
      "tasty acomp be AUX ADJ []\n",
      "The det internet NOUN DET []\n",
      "internet nsubj was AUX NOUN [The]\n",
      "was ROOT was AUX AUX [internet, slow, .]\n",
      "slow acomp was AUX ADJ []\n",
      ". punct was AUX PUNCT []\n",
      "Our poss experience NOUN PRON []\n",
      "experience nsubj was AUX NOUN [Our]\n",
      "was ROOT was AUX AUX [experience, suboptimal]\n",
      "suboptimal acomp was AUX ADJ []\n"
     ]
    }
   ],
   "source": [
    "for sentence in sentences:\n",
    "    doc = nlp(sentence)\n",
    "    for token in doc:\n",
    "        print(token.text, token.dep_, token.head.text, token.head.pos_,token.pos_,[child for child in token.children])"
   ]
  },
  {
   "cell_type": "markdown",
   "metadata": {},
   "source": [
    "Below is an example of dependency visualization in a sentence:\n",
    "\n",
    "https://spacy.io/usage/visualizers"
   ]
  },
  {
   "cell_type": "code",
   "execution_count": 6,
   "metadata": {},
   "outputs": [
    {
     "name": "stderr",
     "output_type": "stream",
     "text": [
      "C:\\Users\\21261\\anaconda3\\lib\\site-packages\\spacy\\displacy\\__init__.py:108: UserWarning: [W011] It looks like you're calling displacy.serve from within a Jupyter notebook or a similar environment. This likely means you're already running a local web server, so there's no need to make displaCy start another one. Instead, you should be able to replace displacy.serve with displacy.render to show the visualization.\n",
      "  warnings.warn(Warnings.W011)\n"
     ]
    },
    {
     "data": {
      "text/html": [
       "<span class=\"tex2jax_ignore\"><!DOCTYPE html>\n",
       "<html lang=\"en\">\n",
       "    <head>\n",
       "        <title>displaCy</title>\n",
       "    </head>\n",
       "\n",
       "    <body style=\"font-size: 16px; font-family: -apple-system, BlinkMacSystemFont, 'Segoe UI', Helvetica, Arial, sans-serif, 'Apple Color Emoji', 'Segoe UI Emoji', 'Segoe UI Symbol'; padding: 4rem 2rem; direction: ltr\">\n",
       "<figure style=\"margin-bottom: 6rem\">\n",
       "<div class=\"entities\" style=\"line-height: 2.5; direction: ltr\">The food we had \n",
       "<mark class=\"entity\" style=\"background: #bfe1d9; padding: 0.45em 0.6em; margin: 0 0.25em; line-height: 1; border-radius: 0.35em;\">\n",
       "    yesterday\n",
       "    <span style=\"font-size: 0.8em; font-weight: bold; line-height: 1; border-radius: 0.35em; vertical-align: middle; margin-left: 0.5rem\">DATE</span>\n",
       "</mark>\n",
       " was delicious</div>\n",
       "</figure>\n",
       "</body>\n",
       "</html></span>"
      ],
      "text/plain": [
       "<IPython.core.display.HTML object>"
      ]
     },
     "metadata": {},
     "output_type": "display_data"
    },
    {
     "name": "stdout",
     "output_type": "stream",
     "text": [
      "\n",
      "Using the 'ent' visualizer\n",
      "Serving on http://0.0.0.0:5000 ...\n",
      "\n",
      "Shutting down server on port 5000.\n"
     ]
    }
   ],
   "source": [
    "import spacy\n",
    "from spacy import displacy\n",
    "\n",
    "\n",
    "doc = nlp(\"The food we had yesterday was delicious\")\n",
    "displacy.serve(doc, style=\"ent\")"
   ]
  },
  {
   "cell_type": "markdown",
   "metadata": {},
   "source": [
    "By using the linguistic characteristics and in particular the POS, we will extract the adjectives as expression of sentiment "
   ]
  },
  {
   "cell_type": "code",
   "execution_count": 7,
   "metadata": {},
   "outputs": [
    {
     "name": "stdout",
     "output_type": "stream",
     "text": [
      "The food we had yesterday was delicious\n",
      "delicious\n",
      "My time in Italy was very enjoyable\n",
      "enjoyable\n",
      "I found the meal to be tasty\n",
      "tasty\n",
      "The internet was slow.\n",
      "slow\n",
      "Our experience was suboptimal\n",
      "suboptimal\n"
     ]
    }
   ],
   "source": [
    "for sentence in sentences:\n",
    "    doc = nlp(sentence)\n",
    "    descriptive_term = ''\n",
    "    for token in doc:\n",
    "        #print(token)\n",
    "        if token.pos_ == 'ADJ':\n",
    "            descriptive_term = token\n",
    "    print(sentence)\n",
    "    print(descriptive_term)"
   ]
  },
  {
   "cell_type": "markdown",
   "metadata": {},
   "source": [
    "As you can see, what's missing are intensifiers like \"very\" (we'll avoid adverbs). we will extract them using the children property.  "
   ]
  },
  {
   "cell_type": "code",
   "execution_count": 8,
   "metadata": {},
   "outputs": [
    {
     "name": "stdout",
     "output_type": "stream",
     "text": [
      "delicious\n",
      "very enjoyable\n",
      "tasty\n",
      "slow\n",
      "suboptimal\n"
     ]
    }
   ],
   "source": [
    "for sentence in sentences:\n",
    "    doc = nlp(sentence)\n",
    "    descriptive_term = ''\n",
    "    for token in doc:\n",
    "        if token.pos_ == 'ADJ':\n",
    "            prepend = ''\n",
    "            for child in token.children:\n",
    "                #print(child)\n",
    "                if child.pos_ != 'ADV':\n",
    "                    continue\n",
    "                prepend += child.text + ' '\n",
    "            descriptive_term = prepend + token.text\n",
    "    #print(sentence)\n",
    "    print(descriptive_term)"
   ]
  },
  {
   "cell_type": "markdown",
   "metadata": {},
   "source": [
    "We'll put that in a dictionary list"
   ]
  },
  {
   "cell_type": "code",
   "execution_count": 9,
   "metadata": {},
   "outputs": [
    {
     "name": "stdout",
     "output_type": "stream",
     "text": [
      "[{'aspect': 'food', 'description': 'delicious'}, {'aspect': 'time', 'description': 'very enjoyable'}, {'aspect': 'meal', 'description': 'tasty'}, {'aspect': 'internet', 'description': 'slow'}, {'aspect': 'experience', 'description': 'suboptimal'}]\n"
     ]
    }
   ],
   "source": [
    "aspects = []\n",
    "for sentence in sentences:\n",
    "    doc = nlp(sentence)\n",
    "    descriptive_term = ''\n",
    "    target = ''\n",
    "    for token in doc:\n",
    "        if token.dep_ == 'nsubj' and token.pos_ == 'NOUN':\n",
    "            target = token.text\n",
    "        if token.pos_ == 'ADJ':\n",
    "            prepend = ''\n",
    "            for child in token.children:\n",
    "                if child.pos_ != 'ADV':\n",
    "                    continue\n",
    "                prepend += child.text + ' '\n",
    "            descriptive_term = prepend + token.text  \n",
    "    \n",
    "    aspects.append({'aspect': target,'description': descriptive_term})\n",
    "print(aspects)"
   ]
  },
  {
   "cell_type": "markdown",
   "metadata": {},
   "source": [
    "### using TextBlob for sentiment extraction"
   ]
  },
  {
   "cell_type": "code",
   "execution_count": 15,
   "metadata": {},
   "outputs": [
    {
     "name": "stdout",
     "output_type": "stream",
     "text": [
      "Collecting TextBlob\n",
      "  Downloading textblob-0.17.1-py2.py3-none-any.whl (636 kB)\n",
      "     ---------------------------------------- 0.0/636.8 kB ? eta -:--:--\n",
      "     ------ ------------------------------- 112.6/636.8 kB 6.8 MB/s eta 0:00:01\n",
      "     ------------------------ ------------- 409.6/636.8 kB 5.1 MB/s eta 0:00:01\n",
      "     -------------------------------------  634.9/636.8 kB 5.7 MB/s eta 0:00:01\n",
      "     -------------------------------------- 636.8/636.8 kB 5.0 MB/s eta 0:00:00\n",
      "Requirement already satisfied: nltk>=3.1 in c:\\users\\21261\\anaconda3\\lib\\site-packages (from TextBlob) (3.7)\n",
      "Requirement already satisfied: click in c:\\users\\21261\\anaconda3\\lib\\site-packages (from nltk>=3.1->TextBlob) (8.0.4)\n",
      "Requirement already satisfied: tqdm in c:\\users\\21261\\anaconda3\\lib\\site-packages (from nltk>=3.1->TextBlob) (4.65.0)\n",
      "Requirement already satisfied: joblib in c:\\users\\21261\\anaconda3\\lib\\site-packages (from nltk>=3.1->TextBlob) (1.2.0)\n",
      "Requirement already satisfied: regex>=2021.8.3 in c:\\users\\21261\\anaconda3\\lib\\site-packages (from nltk>=3.1->TextBlob) (2022.7.9)\n",
      "Requirement already satisfied: colorama in c:\\users\\21261\\anaconda3\\lib\\site-packages (from click->nltk>=3.1->TextBlob) (0.4.6)\n",
      "Installing collected packages: TextBlob\n",
      "Successfully installed TextBlob-0.17.1\n"
     ]
    }
   ],
   "source": [
    "!pip install TextBlob"
   ]
  },
  {
   "cell_type": "markdown",
   "metadata": {},
   "source": [
    "TextBlob is a library that offers out-of-the-box sentiment analysis. It has a bag of words approach, which means it has a list of words such as “good”, “bad” and “excellent” that have a sentiment score attached to them. It is also able to select modifiers (such as “not”) and intensifiers (such as “very”) that affect the sentiment score. "
   ]
  },
  {
   "cell_type": "code",
   "execution_count": 10,
   "metadata": {},
   "outputs": [
    {
     "name": "stdout",
     "output_type": "stream",
     "text": [
      "[{'aspect': 'food', 'description': 'delicious', 'sentiment': Sentiment(polarity=1.0, subjectivity=1.0)}, {'aspect': 'time', 'description': 'very enjoyable', 'sentiment': Sentiment(polarity=0.65, subjectivity=0.78)}, {'aspect': 'meal', 'description': 'tasty', 'sentiment': Sentiment(polarity=0.0, subjectivity=0.0)}, {'aspect': 'internet', 'description': 'slow', 'sentiment': Sentiment(polarity=-0.30000000000000004, subjectivity=0.39999999999999997)}, {'aspect': 'experience', 'description': 'suboptimal', 'sentiment': Sentiment(polarity=0.0, subjectivity=0.0)}]\n"
     ]
    }
   ],
   "source": [
    "from textblob import TextBlob\n",
    "for aspect in aspects:\n",
    "    aspect['sentiment'] = TextBlob(aspect['description']).sentiment\n",
    "print(aspects)"
   ]
  },
  {
   "cell_type": "markdown",
   "metadata": {},
   "source": [
    "looking at the results we can notice that the adjectives \"tasty\" and \"suboptimal\" are considered neutral. It looks like they are not part of TextBlob's dictionary and therefore not picked up.\n",
    "\n",
    "TextBlob allows us to train a NaiveBayesClassifier using a very simple and easy-to-understand syntax for everyone, which we will use to improve our sentiment analysis. \n",
    "\n",
    "Thus, we will perform a Corpus-Based Sentiment Lexicon Acquisition using TextBlob "
   ]
  },
  {
   "cell_type": "code",
   "execution_count": 20,
   "metadata": {},
   "outputs": [],
   "source": [
    "#!python -m textblob.download_corpora"
   ]
  },
  {
   "cell_type": "code",
   "execution_count": 11,
   "metadata": {},
   "outputs": [
    {
     "name": "stdout",
     "output_type": "stream",
     "text": [
      "Delicious food.\n",
      "positive\n",
      "Very Slow internet.\n",
      "negative\n",
      "Suboptimal experience.\n",
      "negative\n",
      "Enjoyable food.\n",
      "negative\n"
     ]
    }
   ],
   "source": [
    "from textblob.classifiers import NaiveBayesClassifier\n",
    "# We train the NaivesBayesClassifier\n",
    "train = [\n",
    "  ('Slow internet.', 'negative'),\n",
    "  ('Delicious food', 'positive'),\n",
    "  ('Suboptimal experience', 'negative'),\n",
    "  ('Very enjoyable time', 'positive'),\n",
    "  ('delicious food.', 'negative')\n",
    "]\n",
    "cl = NaiveBayesClassifier(train)# And then we try to classify some sample sentences.\n",
    "blob = TextBlob(\"Delicious food. Very Slow internet. Suboptimal experience. Enjoyable food.\", classifier=cl)\n",
    "for s in blob.sentences:\n",
    "    print(s)\n",
    "    print(s.classify())"
   ]
  },
  {
   "cell_type": "markdown",
   "metadata": {},
   "source": [
    "We will now redo our classification using the trainer model"
   ]
  },
  {
   "cell_type": "code",
   "execution_count": 12,
   "metadata": {},
   "outputs": [
    {
     "name": "stdout",
     "output_type": "stream",
     "text": [
      "[{'aspect': 'food', 'description': 'delicious', 'sentiment': 'negative'}, {'aspect': 'time', 'description': 'very enjoyable', 'sentiment': 'positive'}, {'aspect': 'meal', 'description': 'tasty', 'sentiment': 'negative'}, {'aspect': 'internet', 'description': 'slow', 'sentiment': 'negative'}, {'aspect': 'experience', 'description': 'suboptimal', 'sentiment': 'negative'}]\n"
     ]
    }
   ],
   "source": [
    "from textblob import TextBlob\n",
    "for aspect in aspects:\n",
    "    blob = TextBlob(aspect['description'], classifier=cl)  \n",
    "    aspect['sentiment'] = blob.classify()\n",
    "print(aspects)"
   ]
  },
  {
   "cell_type": "markdown",
   "metadata": {},
   "source": [
    "# To DO:\n",
    "\n",
    "1. Try on other sentences using the classifier "
   ]
  },
  {
   "cell_type": "code",
   "execution_count": 13,
   "metadata": {},
   "outputs": [
    {
     "name": "stdout",
     "output_type": "stream",
     "text": [
      "The beer was good .\n",
      "positive\n",
      "But the hangover is horrible.\n",
      "negative\n"
     ]
    }
   ],
   "source": [
    "# We will try the Decision Tree classifier\n",
    "from textblob.classifiers import DecisionTreeClassifier\n",
    "\n",
    "train = [\n",
    "     ('I love this sandwich.', 'positive'),\n",
    "     ('this is an amazing place!', 'positive'),\n",
    "     ('I feel very good about these beers.', 'positive'),\n",
    "     ('this is my best work.', 'positive'),\n",
    "     (\"what an awesome view\", 'positive'),\n",
    "     ('I do not like this restaurant', 'negative'),\n",
    "     ('my boss is horrible.', 'negative')\n",
    "]\n",
    "\n",
    "cl = DecisionTreeClassifier(train)\n",
    "\n",
    "blob = TextBlob(\"The beer was good . But the hangover is horrible.\", classifier=cl)\n",
    "for s in blob.sentences:\n",
    "    print(s)\n",
    "    print(s.classify())"
   ]
  },
  {
   "cell_type": "code",
   "execution_count": 14,
   "metadata": {},
   "outputs": [],
   "source": [
    "test = [\n",
    "     ('the beer was good.', 'positive'),\n",
    "     ('I do not enjoy my job', 'negative'),\n",
    "     (\"I ain't feeling dandy today.\", 'negative'),\n",
    "     (\"I feel amazing!\", 'positive'),\n",
    "]"
   ]
  },
  {
   "cell_type": "code",
   "execution_count": 15,
   "metadata": {},
   "outputs": [
    {
     "data": {
      "text/plain": [
       "0.5"
      ]
     },
     "execution_count": 15,
     "metadata": {},
     "output_type": "execute_result"
    }
   ],
   "source": [
    "# The accuracy\n",
    "cl.accuracy(test)"
   ]
  },
  {
   "cell_type": "code",
   "execution_count": 16,
   "metadata": {},
   "outputs": [
    {
     "name": "stdout",
     "output_type": "stream",
     "text": [
      "{'aspect': 'food', 'description': 'delicious', 'sentiment': 'positive'}\n",
      "{'aspect': 'time', 'description': 'very enjoyable', 'sentiment': 'positive'}\n",
      "{'aspect': 'meal', 'description': 'tasty', 'sentiment': 'positive'}\n",
      "{'aspect': 'internet', 'description': 'slow', 'sentiment': 'positive'}\n",
      "{'aspect': 'experience', 'description': 'suboptimal', 'sentiment': 'positive'}\n"
     ]
    }
   ],
   "source": [
    "from textblob import TextBlob\n",
    "\n",
    "for aspect in aspects:\n",
    "    blob = TextBlob(aspect['description'], classifier=cl)  \n",
    "    aspect['sentiment'] = blob.classify()\n",
    "for asp in aspects:\n",
    "    print(asp)"
   ]
  },
  {
   "cell_type": "code",
   "execution_count": 18,
   "metadata": {},
   "outputs": [
    {
     "name": "stdout",
     "output_type": "stream",
     "text": [
      "The beer was good .\n",
      "  ==> Training (100 iterations)\n",
      "\n",
      "      Iteration    Log Likelihood    Accuracy\n",
      "      ---------------------------------------\n",
      "             1          -0.69315        0.714\n",
      "             2          -0.48107        0.714\n",
      "             3          -0.43877        0.714\n",
      "             4          -0.40176        0.714\n",
      "             5          -0.36933        0.714\n",
      "             6          -0.34093        0.857\n",
      "             7          -0.31598        0.857\n",
      "             8          -0.29400        1.000\n",
      "             9          -0.27454        1.000\n",
      "            10          -0.25724        1.000\n",
      "            11          -0.24179        1.000\n",
      "            12          -0.22793        1.000\n",
      "            13          -0.21544        1.000\n",
      "            14          -0.20415        1.000\n",
      "            15          -0.19389        1.000\n",
      "            16          -0.18454        1.000\n",
      "            17          -0.17599        1.000\n",
      "            18          -0.16815        1.000\n",
      "            19          -0.16094        1.000\n",
      "            20          -0.15428        1.000\n",
      "            21          -0.14812        1.000\n",
      "            22          -0.14241        1.000\n",
      "            23          -0.13709        1.000\n",
      "            24          -0.13214        1.000\n",
      "            25          -0.12752        1.000\n",
      "            26          -0.12319        1.000\n",
      "            27          -0.11914        1.000\n",
      "            28          -0.11533        1.000\n",
      "            29          -0.11175        1.000\n",
      "            30          -0.10837        1.000\n",
      "            31          -0.10518        1.000\n",
      "            32          -0.10217        1.000\n",
      "            33          -0.09931        1.000\n",
      "            34          -0.09661        1.000\n",
      "            35          -0.09405        1.000\n",
      "            36          -0.09161        1.000\n",
      "            37          -0.08929        1.000\n",
      "            38          -0.08708        1.000\n",
      "            39          -0.08497        1.000\n",
      "            40          -0.08296        1.000\n",
      "            41          -0.08104        1.000\n",
      "            42          -0.07921        1.000\n",
      "            43          -0.07745        1.000\n",
      "            44          -0.07577        1.000\n",
      "            45          -0.07415        1.000\n",
      "            46          -0.07261        1.000\n",
      "            47          -0.07112        1.000\n",
      "            48          -0.06969        1.000\n",
      "            49          -0.06831        1.000\n",
      "            50          -0.06699        1.000\n",
      "            51          -0.06572        1.000\n",
      "            52          -0.06449        1.000\n",
      "            53          -0.06331        1.000\n",
      "            54          -0.06216        1.000\n",
      "            55          -0.06106        1.000\n",
      "            56          -0.05999        1.000\n",
      "            57          -0.05897        1.000\n",
      "            58          -0.05797        1.000\n",
      "            59          -0.05701        1.000\n",
      "            60          -0.05607        1.000\n",
      "            61          -0.05517        1.000\n",
      "            62          -0.05429        1.000\n",
      "            63          -0.05345        1.000\n",
      "            64          -0.05262        1.000\n",
      "            65          -0.05182        1.000\n",
      "            66          -0.05105        1.000\n",
      "            67          -0.05029        1.000\n",
      "            68          -0.04956        1.000\n",
      "            69          -0.04885        1.000\n",
      "            70          -0.04816        1.000\n",
      "            71          -0.04749        1.000\n",
      "            72          -0.04683        1.000\n",
      "            73          -0.04620        1.000\n",
      "            74          -0.04558        1.000\n",
      "            75          -0.04497        1.000\n",
      "            76          -0.04438        1.000\n",
      "            77          -0.04381        1.000\n",
      "            78          -0.04325        1.000\n",
      "            79          -0.04271        1.000\n",
      "            80          -0.04217        1.000\n",
      "            81          -0.04165        1.000\n",
      "            82          -0.04115        1.000\n",
      "            83          -0.04065        1.000\n",
      "            84          -0.04017        1.000\n",
      "            85          -0.03970        1.000\n",
      "            86          -0.03924        1.000\n",
      "            87          -0.03879        1.000\n",
      "            88          -0.03834        1.000\n",
      "            89          -0.03791        1.000\n",
      "            90          -0.03749        1.000\n",
      "            91          -0.03708        1.000\n",
      "            92          -0.03668        1.000\n",
      "            93          -0.03628        1.000\n",
      "            94          -0.03589        1.000\n",
      "            95          -0.03552        1.000\n",
      "            96          -0.03514        1.000\n",
      "            97          -0.03478        1.000\n",
      "            98          -0.03442        1.000\n",
      "            99          -0.03408        1.000\n",
      "         Final          -0.03373        1.000\n",
      "positive\n",
      "But the hangover is horrible.\n",
      "positive\n"
     ]
    }
   ],
   "source": [
    "# We will try MaxEntClassifier\n",
    "from textblob.classifiers import MaxEntClassifier\n",
    "\n",
    "train = [\n",
    "     ('I love this sandwich.', 'positive'),\n",
    "     ('this is an amazing place!', 'positive'),\n",
    "     ('I feel very good about these beers.', 'positive'),\n",
    "     ('this is my best work.', 'positive'),\n",
    "     (\"what an awesome view\", 'positive'),\n",
    "     ('I do not like this restaurant', 'negative'),\n",
    "     ('my boss is horrible.', 'negative')\n",
    "]\n",
    "\n",
    "cl = MaxEntClassifier(train)\n",
    "\n",
    "blob = TextBlob(\"The beer was good . But the hangover is horrible.\", classifier=cl)\n",
    "for s in blob.sentences:\n",
    "    print(s)\n",
    "    print(s.classify())"
   ]
  },
  {
   "cell_type": "code",
   "execution_count": 21,
   "metadata": {},
   "outputs": [
    {
     "data": {
      "text/plain": [
       "0.75"
      ]
     },
     "execution_count": 21,
     "metadata": {},
     "output_type": "execute_result"
    }
   ],
   "source": [
    "# The accuracy of the model MaxEnt Classifier\n",
    "cl.accuracy(test)"
   ]
  },
  {
   "cell_type": "code",
   "execution_count": 20,
   "metadata": {},
   "outputs": [
    {
     "name": "stdout",
     "output_type": "stream",
     "text": [
      "{'aspect': 'food', 'description': 'delicious', 'sentiment': 'positive'}\n",
      "{'aspect': 'time', 'description': 'very enjoyable', 'sentiment': 'positive'}\n",
      "{'aspect': 'meal', 'description': 'tasty', 'sentiment': 'positive'}\n",
      "{'aspect': 'internet', 'description': 'slow', 'sentiment': 'positive'}\n",
      "{'aspect': 'experience', 'description': 'suboptimal', 'sentiment': 'positive'}\n"
     ]
    }
   ],
   "source": [
    "from textblob import TextBlob\n",
    "\n",
    "for aspect in aspects:\n",
    "    blob = TextBlob(aspect['description'], classifier=cl)  \n",
    "    aspect['sentiment'] = blob.classify()\n",
    "for asp in aspects:\n",
    "    print(asp)"
   ]
  }
 ],
 "metadata": {
  "kernelspec": {
   "display_name": "Python 3 (ipykernel)",
   "language": "python",
   "name": "python3"
  },
  "language_info": {
   "codemirror_mode": {
    "name": "ipython",
    "version": 3
   },
   "file_extension": ".py",
   "mimetype": "text/x-python",
   "name": "python",
   "nbconvert_exporter": "python",
   "pygments_lexer": "ipython3",
   "version": "3.9.13"
  }
 },
 "nbformat": 4,
 "nbformat_minor": 2
}
