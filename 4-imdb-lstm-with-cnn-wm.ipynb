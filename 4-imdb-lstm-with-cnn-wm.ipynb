{
 "cells": [
  {
   "cell_type": "markdown",
   "metadata": {},
   "source": [
    "We will use \"IMDB movie review sentiment classification dataset\"\n",
    "\n",
    "Dataset Description: https://keras.io/api/datasets/imdb/\n",
    "\n",
    "This is a dataset of 25,000 movie reviews from IMDB, tagged by sentiment (positive/negative). The reviews have been preprocessed and each review is coded as a list of (whole) word indexes. For convenience, words are indexed by their overall frequency in the dataset, so that, for example, the integer \"3\" encodes the 3rd most frequent word in the data."
   ]
  },
  {
   "cell_type": "code",
   "execution_count": 1,
   "metadata": {},
   "outputs": [],
   "source": [
    "#!pip install keras"
   ]
  },
  {
   "cell_type": "code",
   "execution_count": 2,
   "metadata": {},
   "outputs": [],
   "source": [
    "#!pip install tensorflow"
   ]
  },
  {
   "cell_type": "code",
   "execution_count": 3,
   "metadata": {
    "scrolled": true
   },
   "outputs": [],
   "source": [
    "#! pip install tensorflow --upgrade"
   ]
  },
  {
   "cell_type": "code",
   "execution_count": 25,
   "metadata": {
    "execution": {
     "iopub.execute_input": "2023-06-09T23:13:30.473297Z",
     "iopub.status.busy": "2023-06-09T23:13:30.472857Z",
     "iopub.status.idle": "2023-06-09T23:13:35.873726Z",
     "shell.execute_reply": "2023-06-09T23:13:35.872618Z",
     "shell.execute_reply.started": "2023-06-09T23:13:30.473261Z"
    }
   },
   "outputs": [
    {
     "name": "stderr",
     "output_type": "stream",
     "text": [
      "/opt/conda/lib/python3.10/site-packages/tensorflow_io/python/ops/__init__.py:98: UserWarning: unable to load libtensorflow_io_plugins.so: unable to open file: libtensorflow_io_plugins.so, from paths: ['/opt/conda/lib/python3.10/site-packages/tensorflow_io/python/ops/libtensorflow_io_plugins.so']\n",
      "caused by: ['/opt/conda/lib/python3.10/site-packages/tensorflow_io/python/ops/libtensorflow_io_plugins.so: undefined symbol: _ZN3tsl6StatusC1EN10tensorflow5error4CodeESt17basic_string_viewIcSt11char_traitsIcEENS_14SourceLocationE']\n",
      "  warnings.warn(f\"unable to load libtensorflow_io_plugins.so: {e}\")\n",
      "/opt/conda/lib/python3.10/site-packages/tensorflow_io/python/ops/__init__.py:104: UserWarning: file system plugins are not loaded: unable to open file: libtensorflow_io.so, from paths: ['/opt/conda/lib/python3.10/site-packages/tensorflow_io/python/ops/libtensorflow_io.so']\n",
      "caused by: ['/opt/conda/lib/python3.10/site-packages/tensorflow_io/python/ops/libtensorflow_io.so: undefined symbol: _ZTVN10tensorflow13GcsFileSystemE']\n",
      "  warnings.warn(f\"file system plugins are not loaded: {e}\")\n"
     ]
    }
   ],
   "source": [
    "import numpy\n",
    "import keras\n",
    "from tensorflow.keras.datasets import imdb\n",
    "from tensorflow.keras.models import Sequential\n",
    "from tensorflow.keras.layers import Dense\n",
    "from tensorflow.keras.layers import LSTM, Dropout\n",
    "from tensorflow.python.keras.layers.embeddings import Embedding\n",
    "from tensorflow.python.keras.layers.convolutional import Conv1D\n",
    "from tensorflow.python.keras.layers.convolutional import MaxPooling1D\n",
    "from keras.preprocessing import sequence\n",
    "#from tensorflow.python.keras.utils import one_hot\n",
    "from keras.preprocessing.text import one_hot\n",
    "from tensorflow.keras.preprocessing.sequence import pad_sequences\n",
    "from tensorflow.python.keras.layers import Flatten\n",
    "# fix random seed for reproducibility;pl\n",
    "numpy.random.seed(7)"
   ]
  },
  {
   "cell_type": "code",
   "execution_count": 4,
   "metadata": {
    "execution": {
     "iopub.execute_input": "2023-06-09T19:36:39.008307Z",
     "iopub.status.busy": "2023-06-09T19:36:39.007944Z",
     "iopub.status.idle": "2023-06-09T19:36:44.675719Z",
     "shell.execute_reply": "2023-06-09T19:36:44.674722Z",
     "shell.execute_reply.started": "2023-06-09T19:36:39.008276Z"
    }
   },
   "outputs": [
    {
     "name": "stdout",
     "output_type": "stream",
     "text": [
      "Downloading data from https://storage.googleapis.com/tensorflow/tf-keras-datasets/imdb.npz\n",
      "17464789/17464789 [==============================] - 0s 0us/step\n"
     ]
    }
   ],
   "source": [
    "db=imdb.load_data()"
   ]
  },
  {
   "cell_type": "code",
   "execution_count": 6,
   "metadata": {},
   "outputs": [],
   "source": [
    "#db"
   ]
  },
  {
   "cell_type": "code",
   "execution_count": 5,
   "metadata": {
    "execution": {
     "iopub.execute_input": "2023-06-09T19:36:45.099717Z",
     "iopub.status.busy": "2023-06-09T19:36:45.099170Z",
     "iopub.status.idle": "2023-06-09T19:36:50.530942Z",
     "shell.execute_reply": "2023-06-09T19:36:50.529853Z",
     "shell.execute_reply.started": "2023-06-09T19:36:45.099683Z"
    }
   },
   "outputs": [],
   "source": [
    "top_words = 5000\n",
    "(X_train, y_train), (X_test, y_test) = imdb.load_data(num_words=top_words)"
   ]
  },
  {
   "cell_type": "code",
   "execution_count": 7,
   "metadata": {
    "execution": {
     "iopub.execute_input": "2023-06-09T19:37:20.097211Z",
     "iopub.status.busy": "2023-06-09T19:37:20.096803Z",
     "iopub.status.idle": "2023-06-09T19:37:20.106792Z",
     "shell.execute_reply": "2023-06-09T19:37:20.105670Z",
     "shell.execute_reply.started": "2023-06-09T19:37:20.097176Z"
    }
   },
   "outputs": [
    {
     "data": {
      "text/plain": [
       "(25000,)"
      ]
     },
     "execution_count": 7,
     "metadata": {},
     "output_type": "execute_result"
    }
   ],
   "source": [
    "X_train.shape"
   ]
  },
  {
   "cell_type": "code",
   "execution_count": 8,
   "metadata": {
    "execution": {
     "iopub.execute_input": "2023-06-09T19:37:23.512688Z",
     "iopub.status.busy": "2023-06-09T19:37:23.512345Z",
     "iopub.status.idle": "2023-06-09T19:37:23.519700Z",
     "shell.execute_reply": "2023-06-09T19:37:23.518822Z",
     "shell.execute_reply.started": "2023-06-09T19:37:23.512660Z"
    }
   },
   "outputs": [
    {
     "data": {
      "text/plain": [
       "array([list([1, 14, 22, 16, 43, 530, 973, 1622, 1385, 65, 458, 4468, 66, 3941, 4, 173, 36, 256, 5, 25, 100, 43, 838, 112, 50, 670, 2, 9, 35, 480, 284, 5, 150, 4, 172, 112, 167, 2, 336, 385, 39, 4, 172, 4536, 1111, 17, 546, 38, 13, 447, 4, 192, 50, 16, 6, 147, 2025, 19, 14, 22, 4, 1920, 4613, 469, 4, 22, 71, 87, 12, 16, 43, 530, 38, 76, 15, 13, 1247, 4, 22, 17, 515, 17, 12, 16, 626, 18, 2, 5, 62, 386, 12, 8, 316, 8, 106, 5, 4, 2223, 2, 16, 480, 66, 3785, 33, 4, 130, 12, 16, 38, 619, 5, 25, 124, 51, 36, 135, 48, 25, 1415, 33, 6, 22, 12, 215, 28, 77, 52, 5, 14, 407, 16, 82, 2, 8, 4, 107, 117, 2, 15, 256, 4, 2, 7, 3766, 5, 723, 36, 71, 43, 530, 476, 26, 400, 317, 46, 7, 4, 2, 1029, 13, 104, 88, 4, 381, 15, 297, 98, 32, 2071, 56, 26, 141, 6, 194, 2, 18, 4, 226, 22, 21, 134, 476, 26, 480, 5, 144, 30, 2, 18, 51, 36, 28, 224, 92, 25, 104, 4, 226, 65, 16, 38, 1334, 88, 12, 16, 283, 5, 16, 4472, 113, 103, 32, 15, 16, 2, 19, 178, 32]),\n",
       "       list([1, 194, 1153, 194, 2, 78, 228, 5, 6, 1463, 4369, 2, 134, 26, 4, 715, 8, 118, 1634, 14, 394, 20, 13, 119, 954, 189, 102, 5, 207, 110, 3103, 21, 14, 69, 188, 8, 30, 23, 7, 4, 249, 126, 93, 4, 114, 9, 2300, 1523, 5, 647, 4, 116, 9, 35, 2, 4, 229, 9, 340, 1322, 4, 118, 9, 4, 130, 4901, 19, 4, 1002, 5, 89, 29, 952, 46, 37, 4, 455, 9, 45, 43, 38, 1543, 1905, 398, 4, 1649, 26, 2, 5, 163, 11, 3215, 2, 4, 1153, 9, 194, 775, 7, 2, 2, 349, 2637, 148, 605, 2, 2, 15, 123, 125, 68, 2, 2, 15, 349, 165, 4362, 98, 5, 4, 228, 9, 43, 2, 1157, 15, 299, 120, 5, 120, 174, 11, 220, 175, 136, 50, 9, 4373, 228, 2, 5, 2, 656, 245, 2350, 5, 4, 2, 131, 152, 491, 18, 2, 32, 2, 1212, 14, 9, 6, 371, 78, 22, 625, 64, 1382, 9, 8, 168, 145, 23, 4, 1690, 15, 16, 4, 1355, 5, 28, 6, 52, 154, 462, 33, 89, 78, 285, 16, 145, 95]),\n",
       "       list([1, 14, 47, 8, 30, 31, 7, 4, 249, 108, 7, 4, 2, 54, 61, 369, 13, 71, 149, 14, 22, 112, 4, 2401, 311, 12, 16, 3711, 33, 75, 43, 1829, 296, 4, 86, 320, 35, 534, 19, 263, 4821, 1301, 4, 1873, 33, 89, 78, 12, 66, 16, 4, 360, 7, 4, 58, 316, 334, 11, 4, 1716, 43, 645, 662, 8, 257, 85, 1200, 42, 1228, 2578, 83, 68, 3912, 15, 36, 165, 1539, 278, 36, 69, 2, 780, 8, 106, 14, 2, 1338, 18, 6, 22, 12, 215, 28, 610, 40, 6, 87, 326, 23, 2300, 21, 23, 22, 12, 272, 40, 57, 31, 11, 4, 22, 47, 6, 2307, 51, 9, 170, 23, 595, 116, 595, 1352, 13, 191, 79, 638, 89, 2, 14, 9, 8, 106, 607, 624, 35, 534, 6, 227, 7, 129, 113]),\n",
       "       ...,\n",
       "       list([1, 11, 6, 230, 245, 2, 9, 6, 1225, 446, 2, 45, 2174, 84, 2, 4007, 21, 4, 912, 84, 2, 325, 725, 134, 2, 1715, 84, 5, 36, 28, 57, 1099, 21, 8, 140, 8, 703, 5, 2, 84, 56, 18, 1644, 14, 9, 31, 7, 4, 2, 1209, 2295, 2, 1008, 18, 6, 20, 207, 110, 563, 12, 8, 2901, 2, 8, 97, 6, 20, 53, 4767, 74, 4, 460, 364, 1273, 29, 270, 11, 960, 108, 45, 40, 29, 2961, 395, 11, 6, 4065, 500, 7, 2, 89, 364, 70, 29, 140, 4, 64, 4780, 11, 4, 2678, 26, 178, 4, 529, 443, 2, 5, 27, 710, 117, 2, 2, 165, 47, 84, 37, 131, 818, 14, 595, 10, 10, 61, 1242, 1209, 10, 10, 288, 2260, 1702, 34, 2901, 2, 4, 65, 496, 4, 231, 7, 790, 5, 6, 320, 234, 2766, 234, 1119, 1574, 7, 496, 4, 139, 929, 2901, 2, 2, 5, 4241, 18, 4, 2, 2, 250, 11, 1818, 2, 4, 4217, 2, 747, 1115, 372, 1890, 1006, 541, 2, 7, 4, 59, 2, 4, 3586, 2]),\n",
       "       list([1, 1446, 2, 69, 72, 3305, 13, 610, 930, 8, 12, 582, 23, 5, 16, 484, 685, 54, 349, 11, 4120, 2959, 45, 58, 1466, 13, 197, 12, 16, 43, 23, 2, 5, 62, 30, 145, 402, 11, 4131, 51, 575, 32, 61, 369, 71, 66, 770, 12, 1054, 75, 100, 2198, 8, 4, 105, 37, 69, 147, 712, 75, 3543, 44, 257, 390, 5, 69, 263, 514, 105, 50, 286, 1814, 23, 4, 123, 13, 161, 40, 5, 421, 4, 116, 16, 897, 13, 2, 40, 319, 2, 112, 2, 11, 4803, 121, 25, 70, 3468, 4, 719, 3798, 13, 18, 31, 62, 40, 8, 2, 4, 2, 7, 14, 123, 5, 942, 25, 8, 721, 12, 145, 5, 202, 12, 160, 580, 202, 12, 6, 52, 58, 2, 92, 401, 728, 12, 39, 14, 251, 8, 15, 251, 5, 2, 12, 38, 84, 80, 124, 12, 9, 23]),\n",
       "       list([1, 17, 6, 194, 337, 7, 4, 204, 22, 45, 254, 8, 106, 14, 123, 4, 2, 270, 2, 5, 2, 2, 732, 2098, 101, 405, 39, 14, 1034, 4, 1310, 9, 115, 50, 305, 12, 47, 4, 168, 5, 235, 7, 38, 111, 699, 102, 7, 4, 4039, 2, 9, 24, 6, 78, 1099, 17, 2345, 2, 21, 27, 2, 2, 5, 2, 1603, 92, 1183, 4, 1310, 7, 4, 204, 42, 97, 90, 35, 221, 109, 29, 127, 27, 118, 8, 97, 12, 157, 21, 2, 2, 9, 6, 66, 78, 1099, 4, 631, 1191, 5, 2642, 272, 191, 1070, 6, 2, 8, 2197, 2, 2, 544, 5, 383, 1271, 848, 1468, 2, 497, 2, 8, 1597, 2, 2, 21, 60, 27, 239, 9, 43, 2, 209, 405, 10, 10, 12, 764, 40, 4, 248, 20, 12, 16, 5, 174, 1791, 72, 7, 51, 6, 1739, 22, 4, 204, 131, 9])],\n",
       "      dtype=object)"
      ]
     },
     "execution_count": 8,
     "metadata": {},
     "output_type": "execute_result"
    }
   ],
   "source": [
    "X_train"
   ]
  },
  {
   "cell_type": "code",
   "execution_count": 9,
   "metadata": {
    "execution": {
     "iopub.execute_input": "2023-06-09T19:37:28.785982Z",
     "iopub.status.busy": "2023-06-09T19:37:28.785626Z",
     "iopub.status.idle": "2023-06-09T19:37:28.792711Z",
     "shell.execute_reply": "2023-06-09T19:37:28.791591Z",
     "shell.execute_reply.started": "2023-06-09T19:37:28.785951Z"
    }
   },
   "outputs": [
    {
     "data": {
      "text/plain": [
       "array([1, 0, 0, ..., 0, 1, 0])"
      ]
     },
     "execution_count": 9,
     "metadata": {},
     "output_type": "execute_result"
    }
   ],
   "source": [
    "y_train"
   ]
  },
  {
   "cell_type": "code",
   "execution_count": 11,
   "metadata": {
    "execution": {
     "iopub.execute_input": "2023-06-09T19:37:51.098958Z",
     "iopub.status.busy": "2023-06-09T19:37:51.098585Z",
     "iopub.status.idle": "2023-06-09T19:37:51.311639Z",
     "shell.execute_reply": "2023-06-09T19:37:51.310608Z",
     "shell.execute_reply.started": "2023-06-09T19:37:51.098926Z"
    }
   },
   "outputs": [],
   "source": [
    "#from keras.preprocessing import sequence\n",
    "from keras.utils import pad_sequences\n",
    "max_review_length = 500\n",
    "X_train = pad_sequences(X_train, maxlen=max_review_length)\n",
    "X_test = pad_sequences(X_test, maxlen=max_review_length)"
   ]
  },
  {
   "cell_type": "code",
   "execution_count": 13,
   "metadata": {
    "execution": {
     "iopub.execute_input": "2023-06-09T19:38:10.149635Z",
     "iopub.status.busy": "2023-06-09T19:38:10.149223Z",
     "iopub.status.idle": "2023-06-09T19:38:10.160447Z",
     "shell.execute_reply": "2023-06-09T19:38:10.158201Z",
     "shell.execute_reply.started": "2023-06-09T19:38:10.149602Z"
    }
   },
   "outputs": [
    {
     "data": {
      "text/plain": [
       "array([[   0,    0,    0, ...,   19,  178,   32],\n",
       "       [   0,    0,    0, ...,   16,  145,   95],\n",
       "       [   0,    0,    0, ...,    7,  129,  113],\n",
       "       ...,\n",
       "       [   0,    0,    0, ...,    4, 3586,    2],\n",
       "       [   0,    0,    0, ...,   12,    9,   23],\n",
       "       [   0,    0,    0, ...,  204,  131,    9]], dtype=int32)"
      ]
     },
     "execution_count": 13,
     "metadata": {},
     "output_type": "execute_result"
    }
   ],
   "source": [
    "X_train"
   ]
  },
  {
   "cell_type": "code",
   "execution_count": 14,
   "metadata": {
    "execution": {
     "iopub.execute_input": "2023-06-09T19:38:13.441871Z",
     "iopub.status.busy": "2023-06-09T19:38:13.441504Z",
     "iopub.status.idle": "2023-06-09T19:38:13.448016Z",
     "shell.execute_reply": "2023-06-09T19:38:13.446988Z",
     "shell.execute_reply.started": "2023-06-09T19:38:13.441841Z"
    }
   },
   "outputs": [
    {
     "data": {
      "text/plain": [
       "(25000, 500)"
      ]
     },
     "execution_count": 14,
     "metadata": {},
     "output_type": "execute_result"
    }
   ],
   "source": [
    "X_train.shape"
   ]
  },
  {
   "cell_type": "markdown",
   "metadata": {},
   "source": [
    "we will use the embedding layer which defines the first hidden layer of the network. it must specify 3 arguments:\n",
    "\n",
    "input_dim: the size of the vocabulary in the text\n",
    "\n",
    "output_dim: this is the size of the vector space in which each word will be immersed\n",
    "\n",
    "input_legth: this is the size of the sequence, for example if your documents contain 100 words each then it is 100"
   ]
  },
  {
   "cell_type": "code",
   "execution_count": 15,
   "metadata": {
    "execution": {
     "iopub.execute_input": "2023-06-09T19:38:20.102989Z",
     "iopub.status.busy": "2023-06-09T19:38:20.102617Z",
     "iopub.status.idle": "2023-06-09T19:38:24.770180Z",
     "shell.execute_reply": "2023-06-09T19:38:24.769385Z",
     "shell.execute_reply.started": "2023-06-09T19:38:20.102957Z"
    }
   },
   "outputs": [
    {
     "name": "stdout",
     "output_type": "stream",
     "text": [
      "Model: \"sequential\"\n",
      "_________________________________________________________________\n",
      " Layer (type)                Output Shape              Param #   \n",
      "=================================================================\n",
      " module_wrapper (ModuleWrapp  (None, 500, 32)          160000    \n",
      " er)                                                             \n",
      "                                                                 \n",
      " module_wrapper_1 (ModuleWra  (None, 500, 32)          3104      \n",
      " pper)                                                           \n",
      "                                                                 \n",
      " module_wrapper_2 (ModuleWra  (None, 250, 32)          0         \n",
      " pper)                                                           \n",
      "                                                                 \n",
      " lstm (LSTM)                 (None, 100)               53200     \n",
      "                                                                 \n",
      " dense (Dense)               (None, 1)                 101       \n",
      "                                                                 \n",
      "=================================================================\n",
      "Total params: 216,405\n",
      "Trainable params: 216,405\n",
      "Non-trainable params: 0\n",
      "_________________________________________________________________\n"
     ]
    }
   ],
   "source": [
    "# creating tyhe model \n",
    "embedding_vecor_length = 32\n",
    "\n",
    "model = Sequential()\n",
    "\n",
    "model.add(Embedding(top_words, embedding_vecor_length, input_length=max_review_length))\n",
    "model.add(Conv1D(filters=32, kernel_size=3, padding='same', activation='relu'))\n",
    "\n",
    "model.add(MaxPooling1D(pool_size=2))\n",
    "\n",
    "model.add(LSTM(100))\n",
    "\n",
    "model.add(Dense(1, activation='sigmoid'))\n",
    "\n",
    "model.compile(loss='binary_crossentropy', optimizer='adam', metrics=['accuracy'])\n",
    "\n",
    "model.build((None, max_review_length))  # Build the model\n",
    "\n",
    "model.summary()"
   ]
  },
  {
   "cell_type": "code",
   "execution_count": 16,
   "metadata": {
    "execution": {
     "iopub.execute_input": "2023-06-09T19:38:35.009295Z",
     "iopub.status.busy": "2023-06-09T19:38:35.008939Z",
     "iopub.status.idle": "2023-06-09T19:40:59.135487Z",
     "shell.execute_reply": "2023-06-09T19:40:59.134485Z",
     "shell.execute_reply.started": "2023-06-09T19:38:35.009266Z"
    }
   },
   "outputs": [
    {
     "name": "stdout",
     "output_type": "stream",
     "text": [
      "Epoch 1/3\n",
      "391/391 [==============================] - 74s 159ms/step - loss: 0.4132 - accuracy: 0.7975 - val_loss: 0.3058 - val_accuracy: 0.8764\n",
      "Epoch 2/3\n",
      "391/391 [==============================] - 32s 83ms/step - loss: 0.2416 - accuracy: 0.9060 - val_loss: 0.2796 - val_accuracy: 0.8878\n",
      "Epoch 3/3\n",
      "391/391 [==============================] - 18s 47ms/step - loss: 0.1946 - accuracy: 0.9257 - val_loss: 0.2810 - val_accuracy: 0.8832\n"
     ]
    },
    {
     "data": {
      "text/plain": [
       "<keras.callbacks.History at 0x7f0a36d3ccd0>"
      ]
     },
     "execution_count": 16,
     "metadata": {},
     "output_type": "execute_result"
    }
   ],
   "source": [
    "model.fit(X_train, y_train, validation_data=(X_test, y_test), epochs=3, batch_size=64)"
   ]
  },
  {
   "cell_type": "code",
   "execution_count": 17,
   "metadata": {
    "execution": {
     "iopub.execute_input": "2023-06-09T19:41:00.979988Z",
     "iopub.status.busy": "2023-06-09T19:41:00.979626Z",
     "iopub.status.idle": "2023-06-09T19:41:06.188902Z",
     "shell.execute_reply": "2023-06-09T19:41:06.187654Z",
     "shell.execute_reply.started": "2023-06-09T19:41:00.979958Z"
    }
   },
   "outputs": [
    {
     "name": "stdout",
     "output_type": "stream",
     "text": [
      "Accuracy: 88.32%\n"
     ]
    }
   ],
   "source": [
    "# evaluation\n",
    "scores = model.evaluate(X_test, y_test, verbose=0)\n",
    "print(\"Accuracy: %.2f%%\" % (scores[1]*100))"
   ]
  },
  {
   "cell_type": "markdown",
   "metadata": {},
   "source": [
    "## a simple example of the embedding layer"
   ]
  },
  {
   "cell_type": "code",
   "execution_count": 18,
   "metadata": {
    "execution": {
     "iopub.execute_input": "2023-06-09T19:41:09.763293Z",
     "iopub.status.busy": "2023-06-09T19:41:09.762897Z",
     "iopub.status.idle": "2023-06-09T19:41:09.768235Z",
     "shell.execute_reply": "2023-06-09T19:41:09.767202Z",
     "shell.execute_reply.started": "2023-06-09T19:41:09.763261Z"
    }
   },
   "outputs": [],
   "source": [
    "docs = ['Well done!','Good work','Great effort','nice work','Excellent!',\n",
    "'Weak','Poor effort!','not good','poor work','Could have done better.']"
   ]
  },
  {
   "cell_type": "code",
   "execution_count": 21,
   "metadata": {
    "execution": {
     "iopub.execute_input": "2023-06-09T19:41:27.190880Z",
     "iopub.status.busy": "2023-06-09T19:41:27.190542Z",
     "iopub.status.idle": "2023-06-09T19:41:27.195787Z",
     "shell.execute_reply": "2023-06-09T19:41:27.194697Z",
     "shell.execute_reply.started": "2023-06-09T19:41:27.190852Z"
    }
   },
   "outputs": [],
   "source": [
    "labels = [1,1,1,1,1,0,0,0,0,0]"
   ]
  },
  {
   "cell_type": "code",
   "execution_count": 22,
   "metadata": {
    "execution": {
     "iopub.execute_input": "2023-06-09T19:41:29.511950Z",
     "iopub.status.busy": "2023-06-09T19:41:29.511609Z",
     "iopub.status.idle": "2023-06-09T19:41:29.516347Z",
     "shell.execute_reply": "2023-06-09T19:41:29.515370Z",
     "shell.execute_reply.started": "2023-06-09T19:41:29.511923Z"
    }
   },
   "outputs": [],
   "source": [
    "vocab_size = 50"
   ]
  },
  {
   "cell_type": "code",
   "execution_count": 23,
   "metadata": {
    "execution": {
     "iopub.execute_input": "2023-06-09T19:41:33.054045Z",
     "iopub.status.busy": "2023-06-09T19:41:33.053090Z",
     "iopub.status.idle": "2023-06-09T19:41:33.059600Z",
     "shell.execute_reply": "2023-06-09T19:41:33.058511Z",
     "shell.execute_reply.started": "2023-06-09T19:41:33.053990Z"
    }
   },
   "outputs": [],
   "source": [
    "encoded_docs = [one_hot(d, vocab_size) for d in docs]"
   ]
  },
  {
   "cell_type": "code",
   "execution_count": 24,
   "metadata": {
    "execution": {
     "iopub.execute_input": "2023-06-09T19:41:36.560524Z",
     "iopub.status.busy": "2023-06-09T19:41:36.560095Z",
     "iopub.status.idle": "2023-06-09T19:41:36.566064Z",
     "shell.execute_reply": "2023-06-09T19:41:36.565027Z",
     "shell.execute_reply.started": "2023-06-09T19:41:36.560491Z"
    }
   },
   "outputs": [
    {
     "name": "stdout",
     "output_type": "stream",
     "text": [
      "[[40, 44], [5, 20], [42, 31], [22, 20], [31], [29], [7, 31], [16, 5], [7, 20], [28, 5, 44, 5]]\n"
     ]
    }
   ],
   "source": [
    "print(encoded_docs)"
   ]
  },
  {
   "cell_type": "code",
   "execution_count": 25,
   "metadata": {
    "execution": {
     "iopub.execute_input": "2023-06-09T19:41:40.693962Z",
     "iopub.status.busy": "2023-06-09T19:41:40.693009Z",
     "iopub.status.idle": "2023-06-09T19:41:40.701732Z",
     "shell.execute_reply": "2023-06-09T19:41:40.700411Z",
     "shell.execute_reply.started": "2023-06-09T19:41:40.693916Z"
    }
   },
   "outputs": [
    {
     "name": "stdout",
     "output_type": "stream",
     "text": [
      "[[40 44  0  0]\n",
      " [ 5 20  0  0]\n",
      " [42 31  0  0]\n",
      " [22 20  0  0]\n",
      " [31  0  0  0]\n",
      " [29  0  0  0]\n",
      " [ 7 31  0  0]\n",
      " [16  5  0  0]\n",
      " [ 7 20  0  0]\n",
      " [28  5 44  5]]\n"
     ]
    }
   ],
   "source": [
    "max_length = 4\n",
    "padded_docs = pad_sequences(encoded_docs, maxlen=max_length, padding='post')\n",
    "print(padded_docs)"
   ]
  },
  {
   "cell_type": "markdown",
   "metadata": {},
   "source": [
    "We are now ready to define our Embedding layer as part of our model.\n",
    "\n",
    "The embedding has a vocabulary of 50 and an entry length of 4. We will choose a small embedding space of 8 dimensions.\n",
    "\n",
    "The model is a simple binary classification model. It is important to note that the output of the Embedding layer will be 4 vectors of 8 dimensions each, one for each word. We flatten it (the flatten layer) into a 32-element vector to pass it to the Dense output layer. "
   ]
  },
  {
   "cell_type": "code",
   "execution_count": 26,
   "metadata": {
    "execution": {
     "iopub.execute_input": "2023-06-09T19:41:46.236023Z",
     "iopub.status.busy": "2023-06-09T19:41:46.235568Z",
     "iopub.status.idle": "2023-06-09T19:41:46.337918Z",
     "shell.execute_reply": "2023-06-09T19:41:46.337173Z",
     "shell.execute_reply.started": "2023-06-09T19:41:46.235985Z"
    }
   },
   "outputs": [
    {
     "name": "stdout",
     "output_type": "stream",
     "text": [
      "Model: \"sequential_1\"\n",
      "_________________________________________________________________\n",
      " Layer (type)                Output Shape              Param #   \n",
      "=================================================================\n",
      " embedding (Embedding)       (None, 4, 8)              400       \n",
      "                                                                 \n",
      " flatten (Flatten)           (None, 32)                0         \n",
      "                                                                 \n",
      " dense_1 (Dense)             (None, 1)                 33        \n",
      "                                                                 \n",
      "=================================================================\n",
      "Total params: 433\n",
      "Trainable params: 433\n",
      "Non-trainable params: 0\n",
      "_________________________________________________________________\n"
     ]
    }
   ],
   "source": [
    "from keras.models import Sequential\n",
    "from keras.layers import Embedding, Flatten, Dense\n",
    "\n",
    "model = Sequential()\n",
    "model.add(Embedding(vocab_size, 8, input_length=max_length))\n",
    "model.add(Flatten())\n",
    "model.add(Dense(1, activation='sigmoid'))\n",
    "\n",
    "# compile the model\n",
    "model.compile(optimizer='adam', loss='binary_crossentropy', metrics=['accuracy'])\n",
    "\n",
    "# summarize the model\n",
    "model.summary()"
   ]
  },
  {
   "cell_type": "code",
   "execution_count": 27,
   "metadata": {
    "execution": {
     "iopub.execute_input": "2023-06-09T19:41:50.254971Z",
     "iopub.status.busy": "2023-06-09T19:41:50.254603Z",
     "iopub.status.idle": "2023-06-09T19:41:50.260069Z",
     "shell.execute_reply": "2023-06-09T19:41:50.259078Z",
     "shell.execute_reply.started": "2023-06-09T19:41:50.254942Z"
    }
   },
   "outputs": [],
   "source": [
    "import numpy as np\n",
    "padded_docs = np.array(padded_docs)\n",
    "labels = np.array(labels)"
   ]
  },
  {
   "cell_type": "code",
   "execution_count": 28,
   "metadata": {
    "execution": {
     "iopub.execute_input": "2023-06-09T19:41:53.625705Z",
     "iopub.status.busy": "2023-06-09T19:41:53.625103Z",
     "iopub.status.idle": "2023-06-09T19:41:53.631808Z",
     "shell.execute_reply": "2023-06-09T19:41:53.630665Z",
     "shell.execute_reply.started": "2023-06-09T19:41:53.625664Z"
    }
   },
   "outputs": [
    {
     "name": "stdout",
     "output_type": "stream",
     "text": [
      "(10, 4)\n",
      "(10,)\n"
     ]
    }
   ],
   "source": [
    "print(padded_docs.shape)\n",
    "print(labels.shape)"
   ]
  },
  {
   "cell_type": "code",
   "execution_count": 29,
   "metadata": {
    "execution": {
     "iopub.execute_input": "2023-06-09T19:41:56.735650Z",
     "iopub.status.busy": "2023-06-09T19:41:56.734970Z",
     "iopub.status.idle": "2023-06-09T19:41:57.923040Z",
     "shell.execute_reply": "2023-06-09T19:41:57.922141Z",
     "shell.execute_reply.started": "2023-06-09T19:41:56.735615Z"
    }
   },
   "outputs": [
    {
     "data": {
      "text/plain": [
       "<keras.callbacks.History at 0x7f0a33e8d660>"
      ]
     },
     "execution_count": 29,
     "metadata": {},
     "output_type": "execute_result"
    }
   ],
   "source": [
    "# Now you can proceed with model training\n",
    "model.fit(padded_docs, labels, epochs=10, verbose=0)"
   ]
  },
  {
   "cell_type": "code",
   "execution_count": 30,
   "metadata": {
    "execution": {
     "iopub.execute_input": "2023-06-09T19:42:00.592482Z",
     "iopub.status.busy": "2023-06-09T19:42:00.591897Z",
     "iopub.status.idle": "2023-06-09T19:42:00.848581Z",
     "shell.execute_reply": "2023-06-09T19:42:00.845929Z",
     "shell.execute_reply.started": "2023-06-09T19:42:00.592449Z"
    }
   },
   "outputs": [
    {
     "name": "stdout",
     "output_type": "stream",
     "text": [
      "Accuracy: 69.999999\n"
     ]
    }
   ],
   "source": [
    "loss, accuracy = model.evaluate(padded_docs, labels, verbose=0)\n",
    "print('Accuracy: %f' % (accuracy*100))"
   ]
  },
  {
   "cell_type": "markdown",
   "metadata": {},
   "source": [
    "## To Do: \n",
    "\n",
    "1. Try the same thing on Google reviews dataset ( the file is given in the lab directory)\n",
    "2. try to change the embedding representation using Glove and Skipgram "
   ]
  },
  {
   "cell_type": "code",
   "execution_count": 163,
   "metadata": {
    "execution": {
     "iopub.execute_input": "2023-06-09T20:24:23.843976Z",
     "iopub.status.busy": "2023-06-09T20:24:23.843614Z",
     "iopub.status.idle": "2023-06-09T20:24:23.848200Z",
     "shell.execute_reply": "2023-06-09T20:24:23.847216Z",
     "shell.execute_reply.started": "2023-06-09T20:24:23.843945Z"
    }
   },
   "outputs": [],
   "source": [
    "# 1 Try the same thing on Google reviews dataset"
   ]
  },
  {
   "cell_type": "code",
   "execution_count": 26,
   "metadata": {
    "execution": {
     "iopub.execute_input": "2023-06-09T23:13:39.084921Z",
     "iopub.status.busy": "2023-06-09T23:13:39.083705Z",
     "iopub.status.idle": "2023-06-09T23:13:39.213000Z",
     "shell.execute_reply": "2023-06-09T23:13:39.211893Z",
     "shell.execute_reply.started": "2023-06-09T23:13:39.084883Z"
    }
   },
   "outputs": [],
   "source": [
    "import pandas as pd\n",
    "df = pd.read_csv('/kaggle/input/data-reviews/reviews.csv')"
   ]
  },
  {
   "cell_type": "code",
   "execution_count": 27,
   "metadata": {
    "execution": {
     "iopub.execute_input": "2023-06-09T23:13:40.460799Z",
     "iopub.status.busy": "2023-06-09T23:13:40.459712Z",
     "iopub.status.idle": "2023-06-09T23:13:40.477186Z",
     "shell.execute_reply": "2023-06-09T23:13:40.476085Z",
     "shell.execute_reply.started": "2023-06-09T23:13:40.460760Z"
    }
   },
   "outputs": [
    {
     "data": {
      "text/html": [
       "<div>\n",
       "<style scoped>\n",
       "    .dataframe tbody tr th:only-of-type {\n",
       "        vertical-align: middle;\n",
       "    }\n",
       "\n",
       "    .dataframe tbody tr th {\n",
       "        vertical-align: top;\n",
       "    }\n",
       "\n",
       "    .dataframe thead th {\n",
       "        text-align: right;\n",
       "    }\n",
       "</style>\n",
       "<table border=\"1\" class=\"dataframe\">\n",
       "  <thead>\n",
       "    <tr style=\"text-align: right;\">\n",
       "      <th></th>\n",
       "      <th>userName</th>\n",
       "      <th>userImage</th>\n",
       "      <th>content</th>\n",
       "      <th>score</th>\n",
       "      <th>thumbsUpCount</th>\n",
       "      <th>reviewCreatedVersion</th>\n",
       "      <th>at</th>\n",
       "      <th>replyContent</th>\n",
       "      <th>repliedAt</th>\n",
       "      <th>sortOrder</th>\n",
       "      <th>appId</th>\n",
       "    </tr>\n",
       "  </thead>\n",
       "  <tbody>\n",
       "    <tr>\n",
       "      <th>0</th>\n",
       "      <td>Andrew Thomas</td>\n",
       "      <td>https://lh3.googleusercontent.com/a-/AOh14GiHd...</td>\n",
       "      <td>Update: After getting a response from the deve...</td>\n",
       "      <td>1</td>\n",
       "      <td>21</td>\n",
       "      <td>4.17.0.3</td>\n",
       "      <td>2020-04-05 22:25:57</td>\n",
       "      <td>According to our TOS, and the term you have ag...</td>\n",
       "      <td>2020-04-05 15:10:24</td>\n",
       "      <td>most_relevant</td>\n",
       "      <td>com.anydo</td>\n",
       "    </tr>\n",
       "    <tr>\n",
       "      <th>1</th>\n",
       "      <td>Craig Haines</td>\n",
       "      <td>https://lh3.googleusercontent.com/-hoe0kwSJgPQ...</td>\n",
       "      <td>Used it for a fair amount of time without any ...</td>\n",
       "      <td>1</td>\n",
       "      <td>11</td>\n",
       "      <td>4.17.0.3</td>\n",
       "      <td>2020-04-04 13:40:01</td>\n",
       "      <td>It sounds like you logged in with a different ...</td>\n",
       "      <td>2020-04-05 15:11:35</td>\n",
       "      <td>most_relevant</td>\n",
       "      <td>com.anydo</td>\n",
       "    </tr>\n",
       "  </tbody>\n",
       "</table>\n",
       "</div>"
      ],
      "text/plain": [
       "        userName                                          userImage  \\\n",
       "0  Andrew Thomas  https://lh3.googleusercontent.com/a-/AOh14GiHd...   \n",
       "1   Craig Haines  https://lh3.googleusercontent.com/-hoe0kwSJgPQ...   \n",
       "\n",
       "                                             content  score  thumbsUpCount  \\\n",
       "0  Update: After getting a response from the deve...      1             21   \n",
       "1  Used it for a fair amount of time without any ...      1             11   \n",
       "\n",
       "  reviewCreatedVersion                   at  \\\n",
       "0             4.17.0.3  2020-04-05 22:25:57   \n",
       "1             4.17.0.3  2020-04-04 13:40:01   \n",
       "\n",
       "                                        replyContent            repliedAt  \\\n",
       "0  According to our TOS, and the term you have ag...  2020-04-05 15:10:24   \n",
       "1  It sounds like you logged in with a different ...  2020-04-05 15:11:35   \n",
       "\n",
       "       sortOrder      appId  \n",
       "0  most_relevant  com.anydo  \n",
       "1  most_relevant  com.anydo  "
      ]
     },
     "execution_count": 27,
     "metadata": {},
     "output_type": "execute_result"
    }
   ],
   "source": [
    "df.head(2)"
   ]
  },
  {
   "cell_type": "code",
   "execution_count": 28,
   "metadata": {
    "execution": {
     "iopub.execute_input": "2023-06-09T23:13:42.599777Z",
     "iopub.status.busy": "2023-06-09T23:13:42.597819Z",
     "iopub.status.idle": "2023-06-09T23:13:42.610094Z",
     "shell.execute_reply": "2023-06-09T23:13:42.608520Z",
     "shell.execute_reply.started": "2023-06-09T23:13:42.599734Z"
    }
   },
   "outputs": [
    {
     "data": {
      "text/plain": [
       "Index(['userName', 'userImage', 'content', 'score', 'thumbsUpCount',\n",
       "       'reviewCreatedVersion', 'at', 'replyContent', 'repliedAt', 'sortOrder',\n",
       "       'appId'],\n",
       "      dtype='object')"
      ]
     },
     "execution_count": 28,
     "metadata": {},
     "output_type": "execute_result"
    }
   ],
   "source": [
    "df.columns"
   ]
  },
  {
   "cell_type": "code",
   "execution_count": 29,
   "metadata": {
    "execution": {
     "iopub.execute_input": "2023-06-09T23:13:44.352609Z",
     "iopub.status.busy": "2023-06-09T23:13:44.352191Z",
     "iopub.status.idle": "2023-06-09T23:13:44.360039Z",
     "shell.execute_reply": "2023-06-09T23:13:44.358820Z",
     "shell.execute_reply.started": "2023-06-09T23:13:44.352577Z"
    }
   },
   "outputs": [],
   "source": [
    "X = df.content\n",
    "Y = df.score"
   ]
  },
  {
   "cell_type": "code",
   "execution_count": 30,
   "metadata": {
    "execution": {
     "iopub.execute_input": "2023-06-09T23:13:46.035853Z",
     "iopub.status.busy": "2023-06-09T23:13:46.034662Z",
     "iopub.status.idle": "2023-06-09T23:13:46.048488Z",
     "shell.execute_reply": "2023-06-09T23:13:46.047352Z",
     "shell.execute_reply.started": "2023-06-09T23:13:46.035807Z"
    }
   },
   "outputs": [
    {
     "name": "stdout",
     "output_type": "stream",
     "text": [
      "15746\n"
     ]
    }
   ],
   "source": [
    "labels = []\n",
    "for value in Y.values:\n",
    "    if value <= 2:\n",
    "        labels.append(0)\n",
    "    else :\n",
    "        labels.append(1)\n",
    "print(len(labels))"
   ]
  },
  {
   "cell_type": "code",
   "execution_count": 31,
   "metadata": {
    "execution": {
     "iopub.execute_input": "2023-06-09T23:13:47.674281Z",
     "iopub.status.busy": "2023-06-09T23:13:47.673074Z",
     "iopub.status.idle": "2023-06-09T23:13:47.681738Z",
     "shell.execute_reply": "2023-06-09T23:13:47.680374Z",
     "shell.execute_reply.started": "2023-06-09T23:13:47.674234Z"
    }
   },
   "outputs": [
    {
     "data": {
      "text/plain": [
       "\"Update: After getting a response from the developer I would change my rating to 0 stars if possible. These guys hide behind confusing and opaque terms and refuse to budge at all. I'm so annoyed that my money has been lost to them! Really terrible customer experience. Original: Be very careful when signing up for a free trial of this app. If you happen to go over they automatically charge you for a full years subscription and refuse to refund. Terrible customer experience and the app is just OK.\""
      ]
     },
     "execution_count": 31,
     "metadata": {},
     "output_type": "execute_result"
    }
   ],
   "source": [
    "X.values[0]"
   ]
  },
  {
   "cell_type": "code",
   "execution_count": 33,
   "metadata": {
    "execution": {
     "iopub.execute_input": "2023-06-09T23:13:51.681701Z",
     "iopub.status.busy": "2023-06-09T23:13:51.680955Z",
     "iopub.status.idle": "2023-06-09T23:13:52.047787Z",
     "shell.execute_reply": "2023-06-09T23:13:52.046552Z",
     "shell.execute_reply.started": "2023-06-09T23:13:51.681663Z"
    }
   },
   "outputs": [
    {
     "name": "stdout",
     "output_type": "stream",
     "text": [
      "Taille du vocabulaire du content: 12974\n"
     ]
    }
   ],
   "source": [
    "import numpy as np\n",
    "import string\n",
    "\n",
    "text_list = X.tolist()\n",
    "text = \" \".join(text_list)\n",
    "text = text.translate(str.maketrans('', '', string.punctuation))\n",
    "\n",
    "text = text.lower()\n",
    "\n",
    "\n",
    "words = text.split()\n",
    "\n",
    "unique_words = set(words)\n",
    "\n",
    "# Taille du vocabulaire\n",
    "vocab_size = len(unique_words)\n",
    "print(\"Taille du vocabulaire du content:\", vocab_size)"
   ]
  },
  {
   "cell_type": "code",
   "execution_count": 34,
   "metadata": {
    "execution": {
     "iopub.execute_input": "2023-06-09T23:13:53.325367Z",
     "iopub.status.busy": "2023-06-09T23:13:53.324941Z",
     "iopub.status.idle": "2023-06-09T23:13:53.935229Z",
     "shell.execute_reply": "2023-06-09T23:13:53.934174Z",
     "shell.execute_reply.started": "2023-06-09T23:13:53.325336Z"
    }
   },
   "outputs": [],
   "source": [
    "encoded_docs = [one_hot(text, vocab_size) for text in X]"
   ]
  },
  {
   "cell_type": "code",
   "execution_count": 35,
   "metadata": {
    "execution": {
     "iopub.execute_input": "2023-06-09T23:13:55.122043Z",
     "iopub.status.busy": "2023-06-09T23:13:55.120828Z",
     "iopub.status.idle": "2023-06-09T23:13:55.128955Z",
     "shell.execute_reply": "2023-06-09T23:13:55.127897Z",
     "shell.execute_reply.started": "2023-06-09T23:13:55.121997Z"
    }
   },
   "outputs": [
    {
     "data": {
      "text/plain": [
       "15746"
      ]
     },
     "execution_count": 35,
     "metadata": {},
     "output_type": "execute_result"
    }
   ],
   "source": [
    "len(encoded_docs)"
   ]
  },
  {
   "cell_type": "code",
   "execution_count": 36,
   "metadata": {
    "execution": {
     "iopub.execute_input": "2023-06-09T23:13:56.714249Z",
     "iopub.status.busy": "2023-06-09T23:13:56.713024Z",
     "iopub.status.idle": "2023-06-09T23:13:56.729469Z",
     "shell.execute_reply": "2023-06-09T23:13:56.728401Z",
     "shell.execute_reply.started": "2023-06-09T23:13:56.714203Z"
    }
   },
   "outputs": [
    {
     "data": {
      "text/plain": [
       "393"
      ]
     },
     "execution_count": 36,
     "metadata": {},
     "output_type": "execute_result"
    }
   ],
   "source": [
    "max_l = 0\n",
    "for i in range(len(encoded_docs)):\n",
    "    taille = len(encoded_docs[i])\n",
    "    if taille > max_l:\n",
    "        max_l = taille\n",
    "\n",
    "max_l"
   ]
  },
  {
   "cell_type": "code",
   "execution_count": 37,
   "metadata": {
    "execution": {
     "iopub.execute_input": "2023-06-09T23:13:58.746116Z",
     "iopub.status.busy": "2023-06-09T23:13:58.745094Z",
     "iopub.status.idle": "2023-06-09T23:13:58.859502Z",
     "shell.execute_reply": "2023-06-09T23:13:58.858326Z",
     "shell.execute_reply.started": "2023-06-09T23:13:58.746073Z"
    }
   },
   "outputs": [
    {
     "name": "stdout",
     "output_type": "stream",
     "text": [
      "[[10196  1912  2923 ...     0     0     0]\n",
      " [10834 12853  5634 ...     0     0     0]\n",
      " [ 3775  5373  5307 ...     0     0     0]\n",
      " ...\n",
      " [12055   263  5634 ...     0     0     0]\n",
      " [ 7458 12853     0 ...     0     0     0]\n",
      " [ 7346  3738  6303 ...     0     0     0]]\n"
     ]
    }
   ],
   "source": [
    "padded_docs = pad_sequences(encoded_docs, maxlen = max_l, padding='post')\n",
    "print(padded_docs)"
   ]
  },
  {
   "cell_type": "code",
   "execution_count": 38,
   "metadata": {
    "execution": {
     "iopub.execute_input": "2023-06-09T23:14:00.696810Z",
     "iopub.status.busy": "2023-06-09T23:14:00.696327Z",
     "iopub.status.idle": "2023-06-09T23:14:03.543816Z",
     "shell.execute_reply": "2023-06-09T23:14:03.542989Z",
     "shell.execute_reply.started": "2023-06-09T23:14:00.696771Z"
    }
   },
   "outputs": [
    {
     "name": "stdout",
     "output_type": "stream",
     "text": [
      "Model: \"sequential\"\n",
      "_________________________________________________________________\n",
      " Layer (type)                Output Shape              Param #   \n",
      "=================================================================\n",
      " embedding (Embedding)       (None, 393, 150)          1946100   \n",
      "                                                                 \n",
      " flatten (Flatten)           (None, 58950)             0         \n",
      "                                                                 \n",
      " dense (Dense)               (None, 1)                 58951     \n",
      "                                                                 \n",
      "=================================================================\n",
      "Total params: 2,005,051\n",
      "Trainable params: 2,005,051\n",
      "Non-trainable params: 0\n",
      "_________________________________________________________________\n"
     ]
    }
   ],
   "source": [
    "# me\n",
    "from keras.models import Sequential\n",
    "from keras.layers import Embedding, Flatten, Dense\n",
    "\n",
    "model = Sequential()\n",
    "model.add(Embedding(vocab_size, 150, input_length=max_l))\n",
    "model.add(Flatten())\n",
    "model.add(Dense(1, activation='sigmoid'))\n",
    "\n",
    "# compile the model\n",
    "model.compile(optimizer='adam', loss='binary_crossentropy', metrics=['accuracy'])\n",
    "\n",
    "# summarize the model\n",
    "model.summary()"
   ]
  },
  {
   "cell_type": "code",
   "execution_count": 40,
   "metadata": {
    "execution": {
     "iopub.execute_input": "2023-06-09T23:14:06.370295Z",
     "iopub.status.busy": "2023-06-09T23:14:06.369897Z",
     "iopub.status.idle": "2023-06-09T23:14:06.381539Z",
     "shell.execute_reply": "2023-06-09T23:14:06.380284Z",
     "shell.execute_reply.started": "2023-06-09T23:14:06.370261Z"
    }
   },
   "outputs": [
    {
     "name": "stdout",
     "output_type": "stream",
     "text": [
      "(15746,)\n",
      "(15746, 393)\n"
     ]
    }
   ],
   "source": [
    "padded_docs = np.array(padded_docs)\n",
    "labels = np.array(labels)\n",
    "print(labels.shape)\n",
    "print(padded_docs.shape)"
   ]
  },
  {
   "cell_type": "code",
   "execution_count": 41,
   "metadata": {
    "execution": {
     "iopub.execute_input": "2023-06-09T23:14:08.056750Z",
     "iopub.status.busy": "2023-06-09T23:14:08.056336Z",
     "iopub.status.idle": "2023-06-09T23:15:03.584394Z",
     "shell.execute_reply": "2023-06-09T23:15:03.583105Z",
     "shell.execute_reply.started": "2023-06-09T23:14:08.056719Z"
    }
   },
   "outputs": [
    {
     "data": {
      "text/plain": [
       "<keras.callbacks.History at 0x7c5a75fb6560>"
      ]
     },
     "execution_count": 41,
     "metadata": {},
     "output_type": "execute_result"
    }
   ],
   "source": [
    "# Now you can proceed with model training\n",
    "model.fit(padded_docs, labels, epochs=2, verbose=0)"
   ]
  },
  {
   "cell_type": "code",
   "execution_count": 43,
   "metadata": {
    "execution": {
     "iopub.execute_input": "2023-06-09T23:15:21.542999Z",
     "iopub.status.busy": "2023-06-09T23:15:21.542598Z",
     "iopub.status.idle": "2023-06-09T23:15:22.931081Z",
     "shell.execute_reply": "2023-06-09T23:15:22.930042Z",
     "shell.execute_reply.started": "2023-06-09T23:15:21.542968Z"
    }
   },
   "outputs": [
    {
     "name": "stdout",
     "output_type": "stream",
     "text": [
      "Accuracy: 97.288197\n"
     ]
    }
   ],
   "source": [
    "loss, accuracy = model.evaluate(padded_docs, labels, verbose=0)\n",
    "print('Accuracy: %f' % (accuracy*100))"
   ]
  },
  {
   "cell_type": "code",
   "execution_count": 84,
   "metadata": {
    "execution": {
     "iopub.execute_input": "2023-06-08T22:47:10.106324Z",
     "iopub.status.busy": "2023-06-08T22:47:10.105237Z",
     "iopub.status.idle": "2023-06-08T22:47:10.111073Z",
     "shell.execute_reply": "2023-06-08T22:47:10.109756Z",
     "shell.execute_reply.started": "2023-06-08T22:47:10.106285Z"
    }
   },
   "outputs": [],
   "source": [
    "# 2- try to change the embedding representation using Glove and Skipgram"
   ]
  },
  {
   "cell_type": "code",
   "execution_count": 44,
   "metadata": {
    "execution": {
     "iopub.execute_input": "2023-06-09T23:15:36.022375Z",
     "iopub.status.busy": "2023-06-09T23:15:36.021974Z",
     "iopub.status.idle": "2023-06-09T23:15:36.028474Z",
     "shell.execute_reply": "2023-06-09T23:15:36.027520Z",
     "shell.execute_reply.started": "2023-06-09T23:15:36.022343Z"
    }
   },
   "outputs": [],
   "source": [
    "import nltk\n",
    "import emoji"
   ]
  },
  {
   "cell_type": "code",
   "execution_count": 45,
   "metadata": {
    "execution": {
     "iopub.execute_input": "2023-06-09T23:15:37.897688Z",
     "iopub.status.busy": "2023-06-09T23:15:37.896886Z",
     "iopub.status.idle": "2023-06-09T23:15:37.902512Z",
     "shell.execute_reply": "2023-06-09T23:15:37.901526Z",
     "shell.execute_reply.started": "2023-06-09T23:15:37.897650Z"
    }
   },
   "outputs": [],
   "source": [
    "X = df.content.values\n",
    "Y = labels"
   ]
  },
  {
   "cell_type": "code",
   "execution_count": 46,
   "metadata": {
    "execution": {
     "iopub.execute_input": "2023-06-09T23:15:39.709326Z",
     "iopub.status.busy": "2023-06-09T23:15:39.708900Z",
     "iopub.status.idle": "2023-06-09T23:15:39.717212Z",
     "shell.execute_reply": "2023-06-09T23:15:39.715961Z",
     "shell.execute_reply.started": "2023-06-09T23:15:39.709285Z"
    }
   },
   "outputs": [
    {
     "data": {
      "text/plain": [
       "array([\"Update: After getting a response from the developer I would change my rating to 0 stars if possible. These guys hide behind confusing and opaque terms and refuse to budge at all. I'm so annoyed that my money has been lost to them! Really terrible customer experience. Original: Be very careful when signing up for a free trial of this app. If you happen to go over they automatically charge you for a full years subscription and refuse to refund. Terrible customer experience and the app is just OK.\",\n",
       "       'Used it for a fair amount of time without any problems. Suddenly then asked me to create an account or log using Google or FB. I used my Google one only to discover everything was gone!',\n",
       "       \"Your app sucks now!!!!! Used to be good but now doesn't update until I physically open it up and then close it then scroll and then it finally shows what I want to put on the list!!!!!! And I FRIGGEN paid for this garbage!!!!!!!\",\n",
       "       \"It seems OK, but very basic. Recurring tasks need some work to be actually useful. For example, it would be nice to be able to set a task to be recurring on the first of every month, without only being able to set that up on the first of the month. Edit; I also just noticed that there is no dark theme. Both may be available as paid for options, but I'll never know, since they are basic options and without them, I have no reason to try this app, and thus will never pay for actual premium options.\"],\n",
       "      dtype=object)"
      ]
     },
     "execution_count": 46,
     "metadata": {},
     "output_type": "execute_result"
    }
   ],
   "source": [
    "X[0:4]"
   ]
  },
  {
   "cell_type": "code",
   "execution_count": 47,
   "metadata": {
    "execution": {
     "iopub.execute_input": "2023-06-09T23:15:41.875559Z",
     "iopub.status.busy": "2023-06-09T23:15:41.875146Z",
     "iopub.status.idle": "2023-06-09T23:15:41.882832Z",
     "shell.execute_reply": "2023-06-09T23:15:41.881800Z",
     "shell.execute_reply.started": "2023-06-09T23:15:41.875525Z"
    }
   },
   "outputs": [
    {
     "data": {
      "text/plain": [
       "array([0, 0, 0, ..., 1, 1, 1])"
      ]
     },
     "execution_count": 47,
     "metadata": {},
     "output_type": "execute_result"
    }
   ],
   "source": [
    "Y"
   ]
  },
  {
   "cell_type": "code",
   "execution_count": 51,
   "metadata": {
    "execution": {
     "iopub.execute_input": "2023-06-09T23:16:15.616780Z",
     "iopub.status.busy": "2023-06-09T23:16:15.616404Z",
     "iopub.status.idle": "2023-06-09T23:16:24.821829Z",
     "shell.execute_reply": "2023-06-09T23:16:24.820664Z",
     "shell.execute_reply.started": "2023-06-09T23:16:15.616749Z"
    }
   },
   "outputs": [],
   "source": [
    "all_texts_p_t = [nltk.word_tokenize(emoji.demojize(t.lower(), language='en')) for t in X]\n",
    "all_texts_preprocessed = [' '.join(text) for text in all_texts_p_t]"
   ]
  },
  {
   "cell_type": "code",
   "execution_count": 52,
   "metadata": {
    "execution": {
     "iopub.execute_input": "2023-06-09T23:16:27.136013Z",
     "iopub.status.busy": "2023-06-09T23:16:27.135616Z",
     "iopub.status.idle": "2023-06-09T23:16:27.143096Z",
     "shell.execute_reply": "2023-06-09T23:16:27.141949Z",
     "shell.execute_reply.started": "2023-06-09T23:16:27.135981Z"
    }
   },
   "outputs": [
    {
     "data": {
      "text/plain": [
       "['this was originally a 5 star app , but now you can only use it by allowing it access to either your emails or facebook ! : enraged_face : :enraged_face : :enraged_face : i am definitely not happy to allow this so have deleted the app . would give it zero stars if i could .',\n",
       " \"could n't even set up one single recurring reminder without being required to pay monthly subscription . get your greedy hand off it dev . it 's only only a reminder app not a useful service .\"]"
      ]
     },
     "execution_count": 52,
     "metadata": {},
     "output_type": "execute_result"
    }
   ],
   "source": [
    "all_texts_preprocessed[15:17]"
   ]
  },
  {
   "cell_type": "code",
   "execution_count": 53,
   "metadata": {
    "execution": {
     "iopub.execute_input": "2023-06-09T23:16:31.746544Z",
     "iopub.status.busy": "2023-06-09T23:16:31.746148Z",
     "iopub.status.idle": "2023-06-09T23:16:31.751508Z",
     "shell.execute_reply": "2023-06-09T23:16:31.750202Z",
     "shell.execute_reply.started": "2023-06-09T23:16:31.746512Z"
    }
   },
   "outputs": [],
   "source": [
    "X = all_texts_preprocessed"
   ]
  },
  {
   "cell_type": "code",
   "execution_count": 55,
   "metadata": {
    "execution": {
     "iopub.execute_input": "2023-06-09T23:17:28.343634Z",
     "iopub.status.busy": "2023-06-09T23:17:28.343243Z",
     "iopub.status.idle": "2023-06-09T23:17:29.474861Z",
     "shell.execute_reply": "2023-06-09T23:17:29.473718Z",
     "shell.execute_reply.started": "2023-06-09T23:17:28.343604Z"
    }
   },
   "outputs": [
    {
     "name": "stdout",
     "output_type": "stream",
     "text": [
      "399\n",
      "[[ 103   79  228 ...    0    0    0]\n",
      " [ 122    4    9 ...    0    0    0]\n",
      " [  59    7 1037 ...    0    0    0]\n",
      " ...\n",
      " [ 157  126    9 ...    0    0    0]\n",
      " [  55    4    0 ...    0    0    0]\n",
      " [  51  262    5 ...    0    0    0]]\n"
     ]
    }
   ],
   "source": [
    "from keras.preprocessing.text import Tokenizer\n",
    "t = Tokenizer()\n",
    "t.fit_on_texts(X)\n",
    "vocab_size = len(t.word_index) + 1\n",
    "#print(vocab_size)\n",
    "# integer encode the documents\n",
    "encoded_docs = t.texts_to_sequences(X)\n",
    "max_l = 0\n",
    "for i in range(len(encoded_docs)):\n",
    "    taille = len(encoded_docs[i])\n",
    "    if taille > max_l:\n",
    "        max_l = taille\n",
    "\n",
    "print(max_l)\n",
    "#print(encoded_docs)\n",
    "padded_docs = pad_sequences(encoded_docs, maxlen=max_l, padding='post')\n",
    "print(padded_docs)"
   ]
  },
  {
   "cell_type": "code",
   "execution_count": 56,
   "metadata": {
    "execution": {
     "iopub.execute_input": "2023-06-09T23:17:32.487695Z",
     "iopub.status.busy": "2023-06-09T23:17:32.486888Z",
     "iopub.status.idle": "2023-06-09T23:17:44.243417Z",
     "shell.execute_reply": "2023-06-09T23:17:44.242233Z",
     "shell.execute_reply.started": "2023-06-09T23:17:32.487647Z"
    }
   },
   "outputs": [
    {
     "name": "stdout",
     "output_type": "stream",
     "text": [
      "Loaded 400000 word vectors.\n"
     ]
    }
   ],
   "source": [
    "from numpy import asarray\n",
    "embeddings_index = dict()\n",
    "f = open('/kaggle/input/glove6b/glove.6B.100d.txt')\n",
    "for line in f:\n",
    "    values = line.split()\n",
    "    word = values[0]\n",
    "    coefs = asarray(values[1:], dtype='float32')\n",
    "    embeddings_index[word] = coefs\n",
    "f.close()\n",
    "print('Loaded %s word vectors.' % len(embeddings_index))"
   ]
  },
  {
   "cell_type": "code",
   "execution_count": 59,
   "metadata": {
    "execution": {
     "iopub.execute_input": "2023-06-09T23:17:50.549425Z",
     "iopub.status.busy": "2023-06-09T23:17:50.548269Z",
     "iopub.status.idle": "2023-06-09T23:17:50.576657Z",
     "shell.execute_reply": "2023-06-09T23:17:50.575681Z",
     "shell.execute_reply.started": "2023-06-09T23:17:50.549381Z"
    }
   },
   "outputs": [],
   "source": [
    "# create a weight matrix for words in training docs\n",
    "embedding_matrix = np.zeros((vocab_size, 100))\n",
    "for word, i in t.word_index.items():\n",
    "    embedding_vector = embeddings_index.get(word)\n",
    "    if embedding_vector is not None:\n",
    "        embedding_matrix[i] = embedding_vector"
   ]
  },
  {
   "cell_type": "code",
   "execution_count": 62,
   "metadata": {
    "execution": {
     "iopub.execute_input": "2023-06-09T23:20:22.491379Z",
     "iopub.status.busy": "2023-06-09T23:20:22.490198Z",
     "iopub.status.idle": "2023-06-09T23:21:19.930090Z",
     "shell.execute_reply": "2023-06-09T23:21:19.929004Z",
     "shell.execute_reply.started": "2023-06-09T23:20:22.491329Z"
    }
   },
   "outputs": [
    {
     "name": "stdout",
     "output_type": "stream",
     "text": [
      "Model: \"sequential_2\"\n",
      "_________________________________________________________________\n",
      " Layer (type)                Output Shape              Param #   \n",
      "=================================================================\n",
      " embedding_2 (Embedding)     (None, 399, 100)          1157400   \n",
      "                                                                 \n",
      " flatten_2 (Flatten)         (None, 39900)             0         \n",
      "                                                                 \n",
      " dense_2 (Dense)             (None, 1)                 39901     \n",
      "                                                                 \n",
      "=================================================================\n",
      "Total params: 1,197,301\n",
      "Trainable params: 1,197,301\n",
      "Non-trainable params: 0\n",
      "_________________________________________________________________\n",
      "Epoch 1/5\n",
      "493/493 [==============================] - 32s 63ms/step - loss: 0.5112 - accuracy: 0.7443\n",
      "Epoch 2/5\n",
      "493/493 [==============================] - 10s 20ms/step - loss: 0.3166 - accuracy: 0.8654\n",
      "Epoch 3/5\n",
      "493/493 [==============================] - 7s 13ms/step - loss: 0.2132 - accuracy: 0.9246\n",
      "Epoch 4/5\n",
      "493/493 [==============================] - 5s 10ms/step - loss: 0.1457 - accuracy: 0.9555\n",
      "Epoch 5/5\n",
      "493/493 [==============================] - 4s 7ms/step - loss: 0.1014 - accuracy: 0.9725\n"
     ]
    },
    {
     "data": {
      "text/plain": [
       "<keras.callbacks.History at 0x7c5a0091e9b0>"
      ]
     },
     "execution_count": 62,
     "metadata": {},
     "output_type": "execute_result"
    }
   ],
   "source": [
    "from keras.models import Sequential\n",
    "from keras.layers import Embedding, Flatten, Dense\n",
    "\n",
    "model = Sequential()\n",
    "model.add(Embedding(vocab_size, 100,weights=[embedding_matrix] ,input_length= max_l))\n",
    "model.add(Flatten())\n",
    "model.add(Dense(1, activation='sigmoid'))\n",
    "\n",
    "# compile the model\n",
    "model.compile(optimizer='adam', loss='binary_crossentropy', metrics=['accuracy'])\n",
    "\n",
    "# summarize the model\n",
    "model.summary()\n",
    "\n",
    "model.fit(padded_docs, labels, epochs=5, batch_size=32)"
   ]
  },
  {
   "cell_type": "code",
   "execution_count": 64,
   "metadata": {
    "execution": {
     "iopub.execute_input": "2023-06-09T23:25:42.941140Z",
     "iopub.status.busy": "2023-06-09T23:25:42.940166Z",
     "iopub.status.idle": "2023-06-09T23:25:44.273916Z",
     "shell.execute_reply": "2023-06-09T23:25:44.272821Z",
     "shell.execute_reply.started": "2023-06-09T23:25:42.941090Z"
    }
   },
   "outputs": [
    {
     "name": "stdout",
     "output_type": "stream",
     "text": [
      "Accuracy: 98.202717\n"
     ]
    }
   ],
   "source": [
    "loss, accuracy = model.evaluate(padded_docs, labels, verbose=0)\n",
    "print('Accuracy: %f' % (accuracy*100))"
   ]
  }
 ],
 "metadata": {
  "kernelspec": {
   "display_name": "Python 3 (ipykernel)",
   "language": "python",
   "name": "python3"
  },
  "language_info": {
   "codemirror_mode": {
    "name": "ipython",
    "version": 3
   },
   "file_extension": ".py",
   "mimetype": "text/x-python",
   "name": "python",
   "nbconvert_exporter": "python",
   "pygments_lexer": "ipython3",
   "version": "3.9.13"
  }
 },
 "nbformat": 4,
 "nbformat_minor": 4
}
